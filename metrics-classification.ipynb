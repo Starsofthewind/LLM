{
 "cells": [
  {
   "cell_type": "code",
   "execution_count": null,
   "id": "894737bc",
   "metadata": {},
   "outputs": [],
   "source": [
    "import pandas as pd"
   ]
  },
  {
   "cell_type": "code",
   "execution_count": null,
   "id": "5e0bc617",
   "metadata": {},
   "outputs": [],
   "source": [
    "pd.read_csv('diabetes.csv')"
   ]
  },
  {
   "cell_type": "code",
   "execution_count": null,
   "id": "55c69170",
   "metadata": {},
   "outputs": [],
   "source": [
    "df=pd.read_csv('diabetes.csv')"
   ]
  },
  {
   "cell_type": "code",
   "execution_count": null,
   "id": "11b91ae7",
   "metadata": {},
   "outputs": [],
   "source": [
    "df.head()"
   ]
  },
  {
   "cell_type": "code",
   "execution_count": null,
   "id": "670e49fe",
   "metadata": {},
   "outputs": [],
   "source": [
    "df.shape"
   ]
  },
  {
   "cell_type": "code",
   "execution_count": null,
   "id": "0293f0c9",
   "metadata": {},
   "outputs": [],
   "source": [
    "df.info()"
   ]
  },
  {
   "cell_type": "code",
   "execution_count": null,
   "id": "2671962d",
   "metadata": {},
   "outputs": [],
   "source": [
    "df.Outcome.value_counts()"
   ]
  },
  {
   "cell_type": "markdown",
   "id": "c8c4c987",
   "metadata": {},
   "source": [
    "identify inout and Output"
   ]
  },
  {
   "cell_type": "code",
   "execution_count": null,
   "id": "ce6642d6",
   "metadata": {},
   "outputs": [],
   "source": [
    "y=df.Outcome\n",
    "x=df.drop(columns=['Outcome'])"
   ]
  },
  {
   "cell_type": "markdown",
   "id": "622bb08e",
   "metadata": {},
   "source": [
    "Choose a machine learning algorithm"
   ]
  },
  {
   "cell_type": "code",
   "execution_count": null,
   "id": "303c2508",
   "metadata": {},
   "outputs": [],
   "source": [
    "from sklearn.metrics import confusion_matrix"
   ]
  },
  {
   "cell_type": "code",
   "execution_count": null,
   "id": "16ed5fe5",
   "metadata": {},
   "outputs": [],
   "source": [
    "from sklearn.linear_model import LogisticRegression"
   ]
  },
  {
   "cell_type": "code",
   "execution_count": null,
   "id": "bf7a9688",
   "metadata": {},
   "outputs": [],
   "source": [
    "lr=LogisticRegression()"
   ]
  },
  {
   "cell_type": "markdown",
   "id": "5f67af73",
   "metadata": {},
   "source": [
    "Training the Model"
   ]
  },
  {
   "cell_type": "code",
   "execution_count": null,
   "id": "4535a4a0",
   "metadata": {},
   "outputs": [],
   "source": [
    "lr.fit(x,y)"
   ]
  },
  {
   "cell_type": "markdown",
   "id": "c3809e1f",
   "metadata": {},
   "source": [
    "Check the accuracy"
   ]
  },
  {
   "cell_type": "code",
   "execution_count": null,
   "id": "aa1ed97f",
   "metadata": {},
   "outputs": [],
   "source": [
    "lr.score(x,y)"
   ]
  },
  {
   "cell_type": "code",
   "execution_count": null,
   "id": "c1a9c0fe",
   "metadata": {},
   "outputs": [],
   "source": [
    "df['Predicted_Outcome']=lr.predict(x)"
   ]
  },
  {
   "cell_type": "code",
   "execution_count": null,
   "id": "238f4846",
   "metadata": {},
   "outputs": [],
   "source": [
    "df.head()"
   ]
  },
  {
   "cell_type": "code",
   "execution_count": null,
   "id": "49913f82",
   "metadata": {},
   "outputs": [],
   "source": [
    "df['Error']=df.Outcome==df.Predicted_Outcome"
   ]
  },
  {
   "cell_type": "code",
   "execution_count": null,
   "id": "3149a325",
   "metadata": {},
   "outputs": [],
   "source": [
    "df.Error.value_counts()"
   ]
  },
  {
   "cell_type": "markdown",
   "id": "7bfdfc65",
   "metadata": {},
   "source": [
    "Metrics for classification"
   ]
  },
  {
   "cell_type": "code",
   "execution_count": null,
   "id": "5d33270c",
   "metadata": {},
   "outputs": [],
   "source": [
    "from sklearn.metrics import confusion_matrix as cm\n",
    "from sklearn.metrics import classification_report as cr"
   ]
  },
  {
   "cell_type": "code",
   "execution_count": null,
   "id": "763b5c50",
   "metadata": {},
   "outputs": [],
   "source": [
    "original=df.Outcome\n",
    "predicted=lr.predict(x)"
   ]
  },
  {
   "cell_type": "code",
   "execution_count": null,
   "id": "edd82517",
   "metadata": {},
   "outputs": [],
   "source": [
    "cm(original,predicted)"
   ]
  },
  {
   "cell_type": "code",
   "execution_count": null,
   "id": "07e87307",
   "metadata": {},
   "outputs": [],
   "source": [
    "print(cm)"
   ]
  },
  {
   "cell_type": "code",
   "execution_count": null,
   "id": "df5024d3",
   "metadata": {},
   "outputs": [],
   "source": [
    "import seaborn as sns"
   ]
  },
  {
   "cell_type": "code",
   "execution_count": null,
   "id": "f06eaca8",
   "metadata": {},
   "outputs": [],
   "source": [
    "sns.heatmap(cm,annot=True)"
   ]
  },
  {
   "cell_type": "code",
   "execution_count": 36,
   "id": "b1455d01",
   "metadata": {},
   "outputs": [],
   "source": [
    "import matplotlib.pyplot as plt"
   ]
  },
  {
   "cell_type": "code",
   "execution_count": 38,
   "id": "ca68ebaa",
   "metadata": {},
   "outputs": [],
   "source": [
    "from sklearn import metrics"
   ]
  },
  {
   "cell_type": "code",
   "execution_count": 39,
   "id": "c858cc9c",
   "metadata": {},
   "outputs": [],
   "source": [
    "cm_display=metrics.ConfusionMatrixDisplay(confusion_matrix=cm,display_labels=[False,True])"
   ]
  },
  {
   "cell_type": "code",
   "execution_count": 40,
   "id": "3381e5e5",
   "metadata": {},
   "outputs": [],
   "source": [
    "plt.show()"
   ]
  },
  {
   "cell_type": "code",
   "execution_count": 42,
   "id": "c8e9a20f",
   "metadata": {},
   "outputs": [
    {
     "data": {
      "image/png": "[encoded data removed]",
      "text/plain": [
       "<Figure size 640x480 with 2 Axes>"
      ]
     },
     "metadata": {},
     "output_type": "display_data"
    }
   ],
   "source": [
    "cfm=metrics.confusion_matrix(original,predicted)\n",
    "cm_display=metrics.ConfusionMatrixDisplay(confusion_matrix=cfm,display_labels=[False,True])\n",
    "cm_display.plot()\n",
    "plt.show()"
   ]
  },
  {
   "cell_type": "markdown",
   "id": "a448fa22",
   "metadata": {},
   "source": [
    "Accuracy"
   ]
  },
  {
   "cell_type": "code",
   "execution_count": 43,
   "id": "0824013a",
   "metadata": {},
   "outputs": [],
   "source": [
    "Accuracy=metrics.accuracy_score(original,predicted)"
   ]
  },
  {
   "cell_type": "markdown",
   "id": "83604bd9",
   "metadata": {},
   "source": [
    "True Positive = You have diabetes and the classifier said you have diabetes"
   ]
  },
  {
   "cell_type": "markdown",
   "id": "9b2d59f4",
   "metadata": {},
   "source": [
    "True Negative = You do not have diabetes and the classifier said you do not have diabetes"
   ]
  },
  {
   "cell_type": "markdown",
   "id": "84abf80a",
   "metadata": {},
   "source": [
    "False Positive = You do not have diabetes and the classifier said you have diabetes"
   ]
  },
  {
   "cell_type": "markdown",
   "id": "1932da78",
   "metadata": {},
   "source": [
    "False Negative = You have diabetes and the classifier said you do not have diabetes"
   ]
  },
  {
   "cell_type": "code",
   "execution_count": 44,
   "id": "c69e0f20",
   "metadata": {},
   "outputs": [
    {
     "name": "stdout",
     "output_type": "stream",
     "text": [
      "0.7825520833333334\n"
     ]
    }
   ],
   "source": [
    "print(Accuracy)"
   ]
  },
  {
   "cell_type": "code",
   "execution_count": 46,
   "id": "353f1130",
   "metadata": {},
   "outputs": [
    {
     "name": "stdout",
     "output_type": "stream",
     "text": [
      "0.7439613526570048\n"
     ]
    }
   ],
   "source": [
    "Precision=metrics.precision_score(original,predicted)\n",
    "print(Precision)"
   ]
  },
  {
   "cell_type": "code",
   "execution_count": 48,
   "id": "cb249568",
   "metadata": {},
   "outputs": [
    {
     "name": "stdout",
     "output_type": "stream",
     "text": [
      "0.5746268656716418\n"
     ]
    }
   ],
   "source": [
    "Sencitivity_recall=metrics.recall_score(original,predicted)\n",
    "print(Sencitivity_recall)"
   ]
  },
  {
   "cell_type": "code",
   "execution_count": 49,
   "id": "5f887f44",
   "metadata": {},
   "outputs": [
    {
     "name": "stdout",
     "output_type": "stream",
     "text": [
      "0.894\n"
     ]
    }
   ],
   "source": [
    "Specificity=metrics.recall_score(original,predicted,pos_label=0)\n",
    "print(Specificity)"
   ]
  },
  {
   "cell_type": "code",
   "execution_count": 50,
   "id": "ff6eb140",
   "metadata": {},
   "outputs": [
    {
     "name": "stdout",
     "output_type": "stream",
     "text": [
      "0.648421052631579\n"
     ]
    }
   ],
   "source": [
    "F1_score=metrics.f1_score(original,predicted)\n",
    "print(F1_score)"
   ]
  },
  {
   "cell_type": "code",
   "execution_count": null,
   "id": "193855a1",
   "metadata": {},
   "outputs": [],
   "source": []
  }
 ],
 "metadata": {
  "kernelspec": {
   "display_name": "Python 3 (ipykernel)",
   "language": "python",
   "name": "python3"
  },
  "language_info": {
   "codemirror_mode": {
    "name": "ipython",
    "version": 3
   },
   "file_extension": ".py",
   "mimetype": "text/x-python",
   "name": "python",
   "nbconvert_exporter": "python",
   "pygments_lexer": "ipython3",
   "version": "3.11.5"
  }
 },
 "nbformat": 4,
 "nbformat_minor": 5
}
